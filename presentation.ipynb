{
 "cells": [
  {
   "cell_type": "markdown",
   "metadata": {
    "slideshow": {
     "slide_type": "slide"
    }
   },
   "source": [
    "# Simplified Scripts with Google's Python Fire"
   ]
  },
  {
   "cell_type": "markdown",
   "metadata": {
    "collapsed": true,
    "slideshow": {
     "slide_type": "-"
    }
   },
   "source": [
    "- Why Fire\n",
    "- Harnessing Fire\n",
    "- Testing Fire\n",
    "- Packaging Fire\n",
    "- Distributing Fire\n",
    "- Fire prevention\n",
    "- Fire alternatives"
   ]
  },
  {
   "cell_type": "markdown",
   "metadata": {
    "slideshow": {
     "slide_type": "slide"
    }
   },
   "source": [
    "# Why Fire"
   ]
  },
  {
   "cell_type": "markdown",
   "metadata": {
    "slideshow": {
     "slide_type": "-"
    }
   },
   "source": [
    "Fire dries-out argument parsing, routing, and help documentation by recursively inspecting objects' method signatures and docstrings then exposing these to the command line."
   ]
  },
  {
   "cell_type": "markdown",
   "metadata": {
    "slideshow": {
     "slide_type": "-"
    }
   },
   "source": [
    "- automates CLI creation from ANY Python object through reflection\n",
    "- rapid prototying of reusable components\n",
    "- group, nest, and pipeline commands using OOP concepts & patterns\n",
    "- interactive debugging with preloaded REPL\n",
    "- exploring existing codebases\n",
    "- transitioning from Bash to Python"
   ]
  },
  {
   "cell_type": "markdown",
   "metadata": {
    "slideshow": {
     "slide_type": "skip"
    }
   },
   "source": [
    "# Why Fire"
   ]
  },
  {
   "cell_type": "markdown",
   "metadata": {
    "slideshow": {
     "slide_type": "skip"
    }
   },
   "source": [
    "Fire **automates CLI creation**. If called without its component argument, Fire generates a command from every globally scoped identifer. Generated commands include positional and keyword arguments without additional declarations."
   ]
  },
  {
   "cell_type": "code",
   "execution_count": 1,
   "metadata": {
    "slideshow": {
     "slide_type": "skip"
    }
   },
   "outputs": [],
   "source": [
    "import fire\n",
    "\n",
    "def greet(name, msg='Hello {}, welcome to Automate!'):\n",
    "    \"\"\"Greet people with templated message.\"\"\"\n",
    "    return msg.format(name)\n",
    "\n",
    "def main():\n",
    "    fire.Fire()"
   ]
  },
  {
   "cell_type": "code",
   "execution_count": 2,
   "metadata": {
    "slideshow": {
     "slide_type": "skip"
    }
   },
   "outputs": [
    {
     "name": "stdout",
     "output_type": "stream",
     "text": [
      "Hello everyone, welcome to Automate!\n",
      "Hello pythonistas, thank you for coming!\n"
     ]
    }
   ],
   "source": [
    "%%bash\n",
    "python ./demo/rad.py greet everyone\n",
    "python ./demo/rad.py greet pythonistas --msg='Hello {}, thank you for coming!'"
   ]
  },
  {
   "cell_type": "markdown",
   "metadata": {
    "slideshow": {
     "slide_type": "skip"
    }
   },
   "source": [
    "# Why Fire"
   ]
  },
  {
   "cell_type": "markdown",
   "metadata": {
    "slideshow": {
     "slide_type": "skip"
    }
   },
   "source": [
    "Fire simplifies **rapid prototying of reusable components**. Just refactor components as needed, then factor out components as needed; there's nothing impeding you."
   ]
  },
  {
   "cell_type": "code",
   "execution_count": 3,
   "metadata": {
    "slideshow": {
     "slide_type": "skip"
    }
   },
   "outputs": [],
   "source": [
    "import fire\n",
    "from translate import Translator\n",
    "\n",
    "def greet(name, msg='Hello {}, welcome to Automate!', lang='en'):\n",
    "    \"\"\"Greet people in their preferred language.\"\"\"\n",
    "    return Translator(lang).translate(msg.format(name))\n",
    "\n",
    "def main():\n",
    "    fire.Fire()"
   ]
  },
  {
   "cell_type": "code",
   "execution_count": 4,
   "metadata": {
    "slideshow": {
     "slide_type": "skip"
    }
   },
   "outputs": [
    {
     "name": "stdout",
     "output_type": "stream",
     "text": [
      "सभी को नमस्कार, स्वचालित में आपका स्वागत है!\n"
     ]
    }
   ],
   "source": [
    "%%bash\n",
    "python ./demo/refactored.py greet everyone --lang=hi"
   ]
  },
  {
   "cell_type": "markdown",
   "metadata": {
    "slideshow": {
     "slide_type": "skip"
    }
   },
   "source": [
    "# Why Fire"
   ]
  },
  {
   "cell_type": "markdown",
   "metadata": {
    "slideshow": {
     "slide_type": "skip"
    }
   },
   "source": [
    "Fire **simplifies grouping, nesting, chaining, and pipelining** commands through OOP."
   ]
  },
  {
   "cell_type": "code",
   "execution_count": 5,
   "metadata": {
    "slideshow": {
     "slide_type": "skip"
    }
   },
   "outputs": [],
   "source": [
    "class NestedGroup(object):\n",
    "\n",
    "    def command(self):\n",
    "        print('Fired NestedGroup command!')\n",
    "\n",
    "\n",
    "class ParentGroup(object):\n",
    "    nested = NestedGroup()\n",
    "\n",
    "    def command(self):\n",
    "        print('Fired ParentGroup command')\n",
    "\n",
    "def main():\n",
    "    fire.Fire(ParentGroup)"
   ]
  },
  {
   "cell_type": "code",
   "execution_count": 6,
   "metadata": {
    "slideshow": {
     "slide_type": "skip"
    }
   },
   "outputs": [
    {
     "name": "stdout",
     "output_type": "stream",
     "text": [
      "Fired ParentGroup's command method!\n",
      "Fired NestedGroup's command method!\n"
     ]
    }
   ],
   "source": [
    "%%bash\n",
    "python ./demo/routing_advanced.py command\n",
    "python ./demo/routing_advanced.py nested command"
   ]
  },
  {
   "cell_type": "markdown",
   "metadata": {
    "slideshow": {
     "slide_type": "skip"
    }
   },
   "source": [
    "- grouping accomplished with classes\n",
    "- nesting & pipelining accomplished with composition & delgation\n",
    "- chaining accompolished with Method Channing Design Pattern"
   ]
  },
  {
   "cell_type": "markdown",
   "metadata": {
    "slideshow": {
     "slide_type": "skip"
    }
   },
   "source": [
    "# Why Fire"
   ]
  },
  {
   "cell_type": "markdown",
   "metadata": {
    "slideshow": {
     "slide_type": "skip"
    }
   },
   "source": [
    "Fire provides **interactive debugging with preloaded REPL** & optional IPython REPL. "
   ]
  },
  {
   "cell_type": "code",
   "execution_count": 7,
   "metadata": {
    "slideshow": {
     "slide_type": "skip"
    }
   },
   "outputs": [],
   "source": [
    "%%bash\n",
    "# python ./demo/repl.py -- --interactive"
   ]
  },
  {
   "cell_type": "markdown",
   "metadata": {
    "slideshow": {
     "slide_type": "skip"
    }
   },
   "source": [
    "<img src='./images/repl.png' />"
   ]
  },
  {
   "cell_type": "markdown",
   "metadata": {
    "slideshow": {
     "slide_type": "skip"
    }
   },
   "source": [
    "- IPython dependency removed May 2019: commeit 952e20d1d5e0c264dd17f4f52ebf28f6a194b4c1"
   ]
  },
  {
   "cell_type": "markdown",
   "metadata": {
    "slideshow": {
     "slide_type": "skip"
    }
   },
   "source": [
    "# Why Fire"
   ]
  },
  {
   "cell_type": "markdown",
   "metadata": {
    "slideshow": {
     "slide_type": "skip"
    }
   },
   "source": [
    "Fire **eases transiting from Bash to Python** by handling stdin and stdout for you."
   ]
  },
  {
   "cell_type": "code",
   "execution_count": 9,
   "metadata": {
    "slideshow": {
     "slide_type": "skip"
    }
   },
   "outputs": [],
   "source": [
    "import fire\n",
    "from translate import Translator\n",
    "\n",
    "GREETING = 'Hello {}, welcome to IndyPy!'\n",
    "\n",
    "def greet(name, language='en', msg=GREETING):\n",
    "    \"\"\"Greet people in their preferred language.\"\"\"\n",
    "    return Translator(language).translate(msg.format(name))\n",
    "\n",
    "def main():\n",
    "    fire.Fire()"
   ]
  },
  {
   "cell_type": "code",
   "execution_count": 10,
   "metadata": {
    "slideshow": {
     "slide_type": "skip"
    }
   },
   "outputs": [
    {
     "name": "stdout",
     "output_type": "stream",
     "text": [
      "Hello everyone, welcome to Automate!\n",
      "       1       5      37\n"
     ]
    }
   ],
   "source": [
    "%%bash\n",
    "python ./demo/rad.py greet everyone\n",
    "echo \"greet everyone\" | xargs python ./demo/rad.py | wc"
   ]
  },
  {
   "cell_type": "markdown",
   "metadata": {
    "slideshow": {
     "slide_type": "slide"
    }
   },
   "source": [
    "# Harnessing Fire\n",
    "1. Installation\n",
    "1. Implicit & Explicit routing\n",
    "1. Commands\n",
    "1. Grouped and nested routes\n",
    "1. Piped \n",
    "1. Parameter handling"
   ]
  },
  {
   "cell_type": "markdown",
   "metadata": {
    "slideshow": {
     "slide_type": "slide"
    }
   },
   "source": [
    "# Harnessing Fire: Installation"
   ]
  },
  {
   "cell_type": "markdown",
   "metadata": {
    "slideshow": {
     "slide_type": "-"
    }
   },
   "source": [
    "- requires Python 2.7, 3.4, 3.5, or 3.6\n",
    "- haven't experienced issues on 3.7, but not recommend"
   ]
  },
  {
   "cell_type": "markdown",
   "metadata": {
    "slideshow": {
     "slide_type": "-"
    }
   },
   "source": [
    "__pipenv__\n",
    "```bash\n",
    "pipenv install fire                  # if python 3.6 first in $PATH\n",
    "pipenv install fire --python 3.6     # if pyenv installed & configured\n",
    "```"
   ]
  },
  {
   "cell_type": "markdown",
   "metadata": {
    "slideshow": {
     "slide_type": "-"
    }
   },
   "source": [
    "__miniconda with pip-tools__\n",
    "```bash\n",
    "conda create python=3.6 --name <env>\n",
    "conda activate <env>\n",
    "conda install fire -c conda-forge\n",
    "echo fire >> requirements.in         # pip-tools replacement yet?\n",
    "```"
   ]
  },
  {
   "cell_type": "markdown",
   "metadata": {
    "slideshow": {
     "slide_type": "slide"
    }
   },
   "source": [
    "# Harnessing Fire: Implicit Routing"
   ]
  },
  {
   "cell_type": "code",
   "execution_count": 11,
   "metadata": {
    "slideshow": {
     "slide_type": "-"
    }
   },
   "outputs": [],
   "source": [
    "command_one = lambda: print('Routed to command_one variable!')\n",
    "\n",
    "def command_two():\n",
    "    print('Routed to command_two function!')\n",
    "\n",
    "class CommandGroup(object):\n",
    "    \"\"\"Grouped commands.\"\"\"\n",
    "    def command_one(self):\n",
    "        print('Routed to CommandGroup command_three method!')\n",
    "\n",
    "def main():\n",
    "    fire.Fire()"
   ]
  },
  {
   "cell_type": "code",
   "execution_count": 12,
   "metadata": {
    "slideshow": {
     "slide_type": "-"
    }
   },
   "outputs": [
    {
     "name": "stdout",
     "output_type": "stream",
     "text": [
      "Routed to command_one variable!\n",
      "Routed to command_two function!\n",
      "Routed to CommandGroup command_three method!\n"
     ]
    }
   ],
   "source": [
    "%%bash\n",
    "python ./demo/routing_implicit.py command_one\n",
    "python ./demo/routing_implicit.py command_two\n",
    "python ./demo/routing_implicit.py CommandGroup command_one"
   ]
  },
  {
   "cell_type": "code",
   "execution_count": 13,
   "metadata": {
    "slideshow": {
     "slide_type": "-"
    }
   },
   "outputs": [
    {
     "name": "stdout",
     "output_type": "stream",
     "text": [
      "Expose explicty!\n"
     ]
    }
   ],
   "source": [
    "%%bash\n",
    "python ./demo/overview.py __builtins__ print 'Expose explicty!'"
   ]
  },
  {
   "cell_type": "markdown",
   "metadata": {
    "slideshow": {
     "slide_type": "slide"
    }
   },
   "source": [
    "# Harnessing Fire: Explicit Routing"
   ]
  },
  {
   "cell_type": "code",
   "execution_count": 14,
   "metadata": {
    "slideshow": {
     "slide_type": "-"
    }
   },
   "outputs": [],
   "source": [
    "command_one = lambda: print('Routed to command_one variable!')\n",
    "\n",
    "def command_two():\n",
    "    print('Routed to command_two function!')\n",
    "\n",
    "class CommandGroup(object):\n",
    "    def command_one(self):\n",
    "        print('Routed to CommandGroup command_three method!')\n",
    "\n",
    "def main():\n",
    "    fire.Fire({\n",
    "        'command_one': command_one,\n",
    "        'command_two': command_two,\n",
    "        'group': CommandGroup,\n",
    "        'command_three': CommandGroup().command_one})"
   ]
  },
  {
   "cell_type": "code",
   "execution_count": 15,
   "metadata": {
    "slideshow": {
     "slide_type": "-"
    }
   },
   "outputs": [
    {
     "name": "stdout",
     "output_type": "stream",
     "text": [
      "Routed to command_one variable!\n",
      "Routed to command_two function!\n",
      "Routed to CommandGroup command_one method!\n",
      "Routed to CommandGroup command_one method!\n"
     ]
    }
   ],
   "source": [
    "%%bash\n",
    "python ./demo/routing_basics.py command_one\n",
    "python ./demo/routing_basics.py command_two\n",
    "python ./demo/routing_basics.py command_three\n",
    "python ./demo/routing_basics.py group command_one"
   ]
  },
  {
   "cell_type": "markdown",
   "metadata": {
    "slideshow": {
     "slide_type": "slide"
    }
   },
   "source": [
    "# Harnessing Fire: Commands from Variables"
   ]
  },
  {
   "cell_type": "markdown",
   "metadata": {
    "slideshow": {
     "slide_type": "-"
    }
   },
   "source": [
    "- recursive calls on returned objects affords implicit chaining\n",
    "- parameters of assigned functions accepted as inputs\n",
    "- alias long identifers in routes passed to Fire"
   ]
  },
  {
   "cell_type": "code",
   "execution_count": 22,
   "metadata": {
    "slideshow": {
     "slide_type": "-"
    }
   },
   "outputs": [],
   "source": [
    "import fire\n",
    "from translate import Translator\n",
    "\n",
    "english = 'Hello IndyPy!'\n",
    "german = Translator('de').translate\n",
    "arabic = lambda x: Translator('ar').translate(x)\n",
    "\n",
    "def main():\n",
    "    fire.Fire({'en': english, 'de': german, 'ar': arabic})"
   ]
  },
  {
   "cell_type": "markdown",
   "metadata": {
    "slideshow": {
     "slide_type": "slide"
    }
   },
   "source": [
    "# Harnessing Fire: Commands from Variables"
   ]
  },
  {
   "cell_type": "code",
   "execution_count": 23,
   "metadata": {
    "slideshow": {
     "slide_type": "-"
    }
   },
   "outputs": [
    {
     "name": "stdout",
     "output_type": "stream",
     "text": [
      "Hello IndyPy!\n",
      "Hello\n",
      "IndyPy!\n"
     ]
    }
   ],
   "source": [
    "%%bash\n",
    "python ./demo/variables.py en\n",
    "python ./demo/variables.py en split"
   ]
  },
  {
   "cell_type": "code",
   "execution_count": 24,
   "metadata": {
    "slideshow": {
     "slide_type": "-"
    }
   },
   "outputs": [
    {
     "name": "stdout",
     "output_type": "stream",
     "text": [
      "Hallo IndyPy\n"
     ]
    }
   ],
   "source": [
    "%%bash\n",
    "python ./demo/variables.py de 'Hello IndyPy'"
   ]
  },
  {
   "cell_type": "code",
   "execution_count": 25,
   "metadata": {
    "slideshow": {
     "slide_type": "-"
    }
   },
   "outputs": [
    {
     "name": "stdout",
     "output_type": "stream",
     "text": [
      "مرحبا انديبي\n"
     ]
    }
   ],
   "source": [
    "%%bash\n",
    "python ./demo/variables.py ar 'Hello IndyPy'"
   ]
  },
  {
   "cell_type": "markdown",
   "metadata": {
    "slideshow": {
     "slide_type": "slide"
    }
   },
   "source": [
    "# Harnessing Fire: Commands from Functions"
   ]
  },
  {
   "cell_type": "markdown",
   "metadata": {
    "slideshow": {
     "slide_type": "-"
    }
   },
   "source": [
    "- function identifiers automatically mapped to commands\n",
    "- postional arguments are required\n",
    "- keyword arguments are optional\n",
    "- method chaining possible on returned values\n",
    "- underscores in function & parameter identifiers converted to hyphens"
   ]
  },
  {
   "cell_type": "code",
   "execution_count": 26,
   "metadata": {
    "slideshow": {
     "slide_type": "-"
    }
   },
   "outputs": [],
   "source": [
    "import fire\n",
    "from translate import Translator\n",
    "\n",
    "GREETING = 'Hello {}, welcome to IndyPy!'\n",
    "\n",
    "def greet(name, language='en', msg=GREETING):\n",
    "    \"\"\"Greet people in their preferred language.\"\"\"\n",
    "    return Translator(language).translate(msg.format(name))\n",
    "\n",
    "def main():\n",
    "    fire.Fire()"
   ]
  },
  {
   "cell_type": "code",
   "execution_count": 27,
   "metadata": {
    "slideshow": {
     "slide_type": "-"
    }
   },
   "outputs": [
    {
     "name": "stdout",
     "output_type": "stream",
     "text": [
      "大家好，欢迎来到IndyPy！\n"
     ]
    }
   ],
   "source": [
    "%%bash\n",
    "python ./demo/functions.py greet everyone --language=zh"
   ]
  },
  {
   "cell_type": "markdown",
   "metadata": {
    "slideshow": {
     "slide_type": "slide"
    }
   },
   "source": [
    "# Harnessing Fire: Commands from Classes"
   ]
  },
  {
   "cell_type": "markdown",
   "metadata": {
    "slideshow": {
     "slide_type": "-"
    }
   },
   "source": [
    "- exposes all \"public\" methods and attributes\n",
    "- \"private\" (\\_, \\_\\_) prefixed methods and attributes not exposed\n",
    "- use --option=convention for posititional & keyword arguments of initializers\n",
    "- initializers' parameters may be positional or keyword arguments\n",
    "- keyword arguments order independent across class methods\n",
    "- underscores in method & parameter identifiers converted to hyphens"
   ]
  },
  {
   "cell_type": "markdown",
   "metadata": {
    "slideshow": {
     "slide_type": "slide"
    }
   },
   "source": [
    "# Harnessing Fire: Commands from Classes"
   ]
  },
  {
   "cell_type": "code",
   "execution_count": 28,
   "metadata": {
    "slideshow": {
     "slide_type": "-"
    }
   },
   "outputs": [],
   "source": [
    "import fire\n",
    "from translate import Translator\n",
    "\n",
    "LANGUAGES = ('en', 'es')\n",
    "\n",
    "class Greeter(object):\n",
    "    \"\"\"Demonstrate class use in Google's Python Fire.\"\"\"\n",
    "    \n",
    "    def __init__(self, speaks=LANGUAGES):\n",
    "        self.supported_languages = speaks\n",
    "\n",
    "    def _is_supported_language(self, target_language: str) -> bool:\n",
    "        return target_language in self.supported_languages\n",
    "\n",
    "    def greet(self, name, salute='Hello', language='en'):\n",
    "        \"\"\"Greet people in their preferred language.\"\"\"\n",
    "        if self._is_supported_language(language):\n",
    "            return Translator(language).translate('{} {}!'.format(salute, name))\n",
    "        else:\n",
    "            return '{} {}'.format(salute, name)\n",
    "\n",
    "    def depart(self, name, salute='Goodbye', language='en'):\n",
    "        \"\"\"Bid people farewell in their preferred language.\"\"\"\n",
    "        return self.greet(name, salute=salute, language=language)\n",
    "\n",
    "def main():\n",
    "    fire.Fire(Greeter)"
   ]
  },
  {
   "cell_type": "markdown",
   "metadata": {
    "slideshow": {
     "slide_type": "slide"
    }
   },
   "source": [
    "# Harnessing Fire: Commands from Classes"
   ]
  },
  {
   "cell_type": "code",
   "execution_count": 29,
   "metadata": {
    "slideshow": {
     "slide_type": "-"
    }
   },
   "outputs": [
    {
     "name": "stdout",
     "output_type": "stream",
     "text": [
      "Hello IndyPy!\n",
      "Hola IndyPy!\n",
      "ہیلو انڈیپی!\n",
      "你好IndyPy！\n",
      "你好IndyPy！\n"
     ]
    }
   ],
   "source": [
    "%%bash\n",
    "python ./demo/classes.py greet IndyPy\n",
    "python ./demo/classes.py greet IndyPy --language=es\n",
    "python ./demo/classes.py  --speaks='(zh, ur)' greet IndyPy --language=ur\n",
    "python ./demo/classes.py greet IndyPy --language=zh --speaks='(zh, ur)'\n",
    "python ./demo/classes.py --language=zh --speaks='(zh, ur)' greet IndyPy "
   ]
  },
  {
   "cell_type": "code",
   "execution_count": 30,
   "metadata": {
    "slideshow": {
     "slide_type": "-"
    }
   },
   "outputs": [
    {
     "name": "stdout",
     "output_type": "stream",
     "text": [
      "Goodbye IndyPy!\n",
      "Adiós IndyPy!\n",
      "Hwyl fawr IndyPy!\n",
      "Hwyl fawr IndyPy!\n",
      "Hwyl fawr IndyPy!\n"
     ]
    }
   ],
   "source": [
    "%%bash\n",
    "python ./demo/classes.py depart IndyPy\n",
    "python ./demo/classes.py depart IndyPy --language=es\n",
    "python ./demo/classes.py  --speaks='(en, cy)' depart IndyPy --language=cy\n",
    "python ./demo/classes.py depart IndyPy --language=cy --speaks='(en, cy)' \n",
    "python ./demo/classes.py --language=cy --speaks='(en, cy)' depart IndyPy "
   ]
  },
  {
   "cell_type": "markdown",
   "metadata": {
    "slideshow": {
     "slide_type": "slide"
    }
   },
   "source": [
    "# Harnessing Fire: Grouped & Nested Routes"
   ]
  },
  {
   "cell_type": "code",
   "execution_count": 45,
   "metadata": {
    "slideshow": {
     "slide_type": "-"
    }
   },
   "outputs": [],
   "source": [
    "class NestedGroup(object):\n",
    "\n",
    "    def command(self, arg):\n",
    "        print('NestedGroup received: {}'.format(arg))\n",
    "\n",
    "\n",
    "class ParentGroup(object):\n",
    "    nested = NestedGroup()\n",
    "\n",
    "    def command(self, arg):\n",
    "        print('ParentGroup received: {}'.format(arg))\n",
    "\n",
    "def main():\n",
    "    fire.Fire(ParentGroup)"
   ]
  },
  {
   "cell_type": "code",
   "execution_count": 43,
   "metadata": {
    "slideshow": {
     "slide_type": "-"
    }
   },
   "outputs": [
    {
     "name": "stdout",
     "output_type": "stream",
     "text": [
      "ParentGroup received: grouped!\n"
     ]
    }
   ],
   "source": [
    "%%bash\n",
    "python demo/nesting.py command 'grouped!'"
   ]
  },
  {
   "cell_type": "code",
   "execution_count": 44,
   "metadata": {
    "slideshow": {
     "slide_type": "-"
    }
   },
   "outputs": [
    {
     "name": "stdout",
     "output_type": "stream",
     "text": [
      "NestedGroup received: composition!\n"
     ]
    }
   ],
   "source": [
    "%%bash\n",
    "python demo/nesting.py nested command 'composition!'"
   ]
  },
  {
   "cell_type": "markdown",
   "metadata": {
    "slideshow": {
     "slide_type": "slide"
    }
   },
   "source": [
    "# Harnessing Fire: Pipelining"
   ]
  },
  {
   "cell_type": "markdown",
   "metadata": {
    "slideshow": {
     "slide_type": "-"
    }
   },
   "source": [
    "```python\n",
    "class Greeter(MultiLinguist):\n",
    "    \"\"\"Demonstrate class method chaining in Google's Python Fire.\"\"\"\n",
    "\n",
    "    def greet(self, name):\n",
    "        \"\"\"Greet persons in their native language.\"\"\"\n",
    "        print(self._translate('{} {}'.format(self.greets_with, name)))\n",
    "        return self\n",
    "\n",
    "    def depart(self, name):\n",
    "        \"\"\"Farewell persons in their native language.\"\"\"\n",
    "        print(self._translate('{} {}'.format(self.departs_with, name)))\n",
    "        return self\n",
    "\n",
    "    def run(self):\n",
    "        \"\"\"Stop Fire from displaying self returned from chained methods.\"\"\"\n",
    "        pass\n",
    "```"
   ]
  },
  {
   "cell_type": "code",
   "execution_count": 19,
   "metadata": {
    "slideshow": {
     "slide_type": "-"
    }
   },
   "outputs": [
    {
     "name": "stdout",
     "output_type": "stream",
     "text": [
      "Hello IndyPy\n",
      "Goodbye IndyPy\n"
     ]
    }
   ],
   "source": [
    "%%bash\n",
    "python ./demo/chaining.py greet IndyPy depart IndyPy run"
   ]
  },
  {
   "cell_type": "markdown",
   "metadata": {
    "slideshow": {
     "slide_type": "slide"
    }
   },
   "source": [
    "# Harnessing Fire: Command Parameters"
   ]
  },
  {
   "cell_type": "markdown",
   "metadata": {
    "slideshow": {
     "slide_type": "-"
    }
   },
   "source": [
    "Pass any literal supported by the version of Python used\n",
    "\n",
    "1. booleans\n",
    "1. dictionaries\n",
    "1. floats\n",
    "1. integers\n",
    "1. lists\n",
    "1. strings\n",
    "1. tuples\n",
    "1. ANY literal"
   ]
  },
  {
   "cell_type": "markdown",
   "metadata": {
    "slideshow": {
     "slide_type": "slide"
    }
   },
   "source": [
    "# Harnessing Fire: Command Parameters"
   ]
  },
  {
   "cell_type": "markdown",
   "metadata": {
    "slideshow": {
     "slide_type": "-"
    }
   },
   "source": [
    "## Booleans"
   ]
  },
  {
   "cell_type": "code",
   "execution_count": 31,
   "metadata": {
    "slideshow": {
     "slide_type": "-"
    }
   },
   "outputs": [
    {
     "name": "stdout",
     "output_type": "stream",
     "text": [
      "args: (True,)\n",
      "args: (False,)\n"
     ]
    }
   ],
   "source": [
    "%%bash\n",
    "python ./demo/harnessing_fire.py parameters True\n",
    "python ./demo/harnessing_fire.py parameters False"
   ]
  },
  {
   "cell_type": "markdown",
   "metadata": {
    "slideshow": {
     "slide_type": "slide"
    }
   },
   "source": [
    "# Harnessing Fire: Command Parameters"
   ]
  },
  {
   "cell_type": "markdown",
   "metadata": {
    "slideshow": {
     "slide_type": "-"
    }
   },
   "source": [
    "## Dictionaries"
   ]
  },
  {
   "cell_type": "code",
   "execution_count": 32,
   "metadata": {
    "slideshow": {
     "slide_type": "-"
    }
   },
   "outputs": [
    {
     "name": "stdout",
     "output_type": "stream",
     "text": [
      "args: ({'a': 1, 'b': 2, 'c': 3},)\n",
      "args: ({'a': 'z', 'b': 'y', 'c': 'x'},)\n"
     ]
    }
   ],
   "source": [
    "%%bash\n",
    "python ./demo/harnessing_fire.py parameters '{a: 1, b: 2, c: 3}'\n",
    "python ./demo/harnessing_fire.py parameters '{a: z, b: y, c: x}'"
   ]
  },
  {
   "cell_type": "markdown",
   "metadata": {
    "slideshow": {
     "slide_type": "slide"
    }
   },
   "source": [
    "# Harnessing Fire: Command Parameters"
   ]
  },
  {
   "cell_type": "markdown",
   "metadata": {
    "slideshow": {
     "slide_type": "-"
    }
   },
   "source": [
    "## Floats"
   ]
  },
  {
   "cell_type": "code",
   "execution_count": 33,
   "metadata": {
    "slideshow": {
     "slide_type": "-"
    }
   },
   "outputs": [
    {
     "name": "stdout",
     "output_type": "stream",
     "text": [
      "args: (2.0,)\n",
      "args: (0.2,)\n",
      "args: (2.0,)\n"
     ]
    }
   ],
   "source": [
    "%%bash\n",
    "python ./demo/harnessing_fire.py parameters 2.\n",
    "python ./demo/harnessing_fire.py parameters .2\n",
    "python ./demo/harnessing_fire.py parameters 2.0"
   ]
  },
  {
   "cell_type": "markdown",
   "metadata": {
    "slideshow": {
     "slide_type": "slide"
    }
   },
   "source": [
    "# Harnessing Fire: Command Parameters"
   ]
  },
  {
   "cell_type": "markdown",
   "metadata": {
    "slideshow": {
     "slide_type": "-"
    }
   },
   "source": [
    "## Integers"
   ]
  },
  {
   "cell_type": "code",
   "execution_count": 34,
   "metadata": {
    "slideshow": {
     "slide_type": "-"
    }
   },
   "outputs": [
    {
     "name": "stdout",
     "output_type": "stream",
     "text": [
      "args: (1,)\n",
      "args: (4,)\n",
      "args: ('4',)\n"
     ]
    }
   ],
   "source": [
    "%%bash\n",
    "\n",
    "#integers\n",
    "python ./demo/harnessing_fire.py parameters 1\n",
    "python ./demo/harnessing_fire.py parameters '4'\n",
    "python ./demo/harnessing_fire.py parameters \"'4'\""
   ]
  },
  {
   "cell_type": "markdown",
   "metadata": {
    "slideshow": {
     "slide_type": "slide"
    }
   },
   "source": [
    "# Harnessing Fire: Command Parameters"
   ]
  },
  {
   "cell_type": "markdown",
   "metadata": {
    "slideshow": {
     "slide_type": "-"
    }
   },
   "source": [
    "## Lists"
   ]
  },
  {
   "cell_type": "code",
   "execution_count": 35,
   "metadata": {
    "slideshow": {
     "slide_type": "-"
    }
   },
   "outputs": [
    {
     "name": "stdout",
     "output_type": "stream",
     "text": [
      "args: (['a', 'b', 'c'],)\n"
     ]
    }
   ],
   "source": [
    "%%bash\n",
    "python ./demo/harnessing_fire.py parameters '[a, b, c]'"
   ]
  },
  {
   "cell_type": "markdown",
   "metadata": {
    "slideshow": {
     "slide_type": "slide"
    }
   },
   "source": [
    "# Harnessing Fire: Command Parameters"
   ]
  },
  {
   "cell_type": "markdown",
   "metadata": {
    "slideshow": {
     "slide_type": "-"
    }
   },
   "source": [
    "## Strings"
   ]
  },
  {
   "cell_type": "code",
   "execution_count": 36,
   "metadata": {
    "slideshow": {
     "slide_type": "-"
    }
   },
   "outputs": [
    {
     "name": "stdout",
     "output_type": "stream",
     "text": [
      "args: ('three',)\n",
      "args: ('three',)\n",
      "args: (\"'three' is a magic number\",)\n",
      "args: ('\"three\" is a magic number',)\n",
      "args: ('\"three\" is a magic number\\\\n yes it is',)\n"
     ]
    }
   ],
   "source": [
    "%%bash\n",
    "python ./demo/harnessing_fire.py parameters three\n",
    "python ./demo/harnessing_fire.py parameters 'three'\n",
    "python ./demo/harnessing_fire.py parameters \"'three' is a magic number\"\n",
    "python ./demo/harnessing_fire.py parameters '\"three\" is a magic number'\n",
    "python ./demo/harnessing_fire.py parameters '\"three\" is a magic number\\n yes it is'"
   ]
  },
  {
   "cell_type": "markdown",
   "metadata": {
    "slideshow": {
     "slide_type": "slide"
    }
   },
   "source": [
    "# Harnessing Fire: Command Parameters"
   ]
  },
  {
   "cell_type": "markdown",
   "metadata": {
    "slideshow": {
     "slide_type": "-"
    }
   },
   "source": [
    "## Tuples"
   ]
  },
  {
   "cell_type": "code",
   "execution_count": 37,
   "metadata": {
    "slideshow": {
     "slide_type": "-"
    }
   },
   "outputs": [
    {
     "name": "stdout",
     "output_type": "stream",
     "text": [
      "args: (('a', 'b', 'c'),)\n",
      "args: ((1, 2, 3),)\n"
     ]
    }
   ],
   "source": [
    "%%bash\n",
    "python ./demo/harnessing_fire.py demonstrate_parameters '(a, b, c)'\n",
    "python ./demo/harnessing_fire.py demonstrate_parameters '(1, 2, 3)'"
   ]
  },
  {
   "cell_type": "markdown",
   "metadata": {
    "slideshow": {
     "slide_type": "slide"
    }
   },
   "source": [
    "# Harnessing Fire: Commands from Modules\n",
    "\n",
    "```python\n",
    "import fire\n",
    "from translate import Translator\n",
    "\n",
    "LANGUAGES = ('en', 'es')\n",
    "\n",
    "...\n",
    "\n",
    "if __name__ == '__main__':\n",
    "    fire.Fire()\n",
    "```"
   ]
  },
  {
   "cell_type": "code",
   "execution_count": 38,
   "metadata": {
    "slideshow": {
     "slide_type": "-"
    }
   },
   "outputs": [
    {
     "name": "stdout",
     "output_type": "stream",
     "text": [
      "Explizit ausstellen!\n"
     ]
    }
   ],
   "source": [
    "%%bash\n",
    "# from translate import Translator\n",
    "python ./demo/rad.py Translator --to_lang=de translate \"Expose explicitly!\""
   ]
  },
  {
   "cell_type": "markdown",
   "metadata": {
    "slideshow": {
     "slide_type": "slide"
    }
   },
   "source": [
    "# Testing Fire"
   ]
  },
  {
   "cell_type": "markdown",
   "metadata": {
    "slideshow": {
     "slide_type": "-"
    }
   },
   "source": [
    "1. subprocess module\n",
    "1. fixtures\n",
    "1. test cases"
   ]
  },
  {
   "cell_type": "markdown",
   "metadata": {
    "slideshow": {
     "slide_type": "slide"
    }
   },
   "source": [
    "# Testing Fire: subprocess Module"
   ]
  },
  {
   "cell_type": "markdown",
   "metadata": {
    "slideshow": {
     "slide_type": "-"
    }
   },
   "source": [
    "Spawn new processes, connect to their input/output/error pipes, and obtain their return codes."
   ]
  },
  {
   "cell_type": "code",
   "execution_count": 39,
   "metadata": {
    "slideshow": {
     "slide_type": "-"
    }
   },
   "outputs": [
    {
     "name": "stdout",
     "output_type": "stream",
     "text": [
      "TDD for CLIs\n",
      "\n"
     ]
    }
   ],
   "source": [
    "import subprocess\n",
    "cmd = \"echo 'TDD for CLIs'\"\n",
    "result = subprocess.run(cmd, shell=True, stdout=subprocess.PIPE)\n",
    "print(result.stdout.decode('utf-8'))"
   ]
  },
  {
   "cell_type": "markdown",
   "metadata": {
    "slideshow": {
     "slide_type": "-"
    }
   },
   "source": [
    "- subprocess.run() accepts command string\n",
    "- shell=True creates shell session\n",
    "- stdout=subprocess.PIPE captures standard out\n",
    "- decode stdout to utf-8 for assertions\n",
    "- pass environment variables with env={'IDENTIFIER': 'value'} kwarg"
   ]
  },
  {
   "cell_type": "markdown",
   "metadata": {
    "slideshow": {
     "slide_type": "slide"
    }
   },
   "source": [
    "# Testing Fire: py.test Fixtures"
   ]
  },
  {
   "cell_type": "markdown",
   "metadata": {
    "slideshow": {
     "slide_type": "-"
    }
   },
   "source": [
    "Testing scripts before packaging requires executing scripts with python. Use os.path and py.test fixtures for DRY path generation.\n",
    "- fixtures from conftest.py available as test parameters\n",
    "- use closure to complete paths as needed\n",
    "- session scope flags fixture to run once"
   ]
  },
  {
   "cell_type": "code",
   "execution_count": 40,
   "metadata": {
    "slideshow": {
     "slide_type": "-"
    }
   },
   "outputs": [],
   "source": [
    "from os.path import abspath, dirname, join #don't do this!\n",
    "import pytest\n",
    "\n",
    "@pytest.fixture(scope='session')\n",
    "def path_builder():\n",
    "    \n",
    "    PROJECT_ROOT = dirname(dirname(abspath(__file__)))\n",
    "\n",
    "    def func(directory, filename):\n",
    "        return join(PROJECT_ROOT, directory, filename)\n",
    "\n",
    "    return func"
   ]
  },
  {
   "cell_type": "markdown",
   "metadata": {
    "slideshow": {
     "slide_type": "slide"
    }
   },
   "source": [
    "# Testing Fire: Test Cases"
   ]
  },
  {
   "cell_type": "code",
   "execution_count": 41,
   "metadata": {
    "slideshow": {
     "slide_type": "-"
    }
   },
   "outputs": [],
   "source": [
    "import subprocess\n",
    "\n",
    "class TestScript():\n",
    "    \n",
    "    script_tested = ('demo', 'rad.py')\n",
    "\n",
    "    def test_greet_english(self, path_builder):\n",
    "        script = path_builder(*self.script_tested)\n",
    "        command = ' '.join(['python', script, 'greet', 'everyone'])\n",
    "        result = subprocess.run(command, shell=True, stdout=subprocess.PIPE)\n",
    "        expected_result = 'Hello everyone, welcome to Automate!\\n'\n",
    "        assert result.stdout.decode('utf-8') == expected_result\n",
    "\n",
    "    def test_greet_hindi(self, path_builder):\n",
    "        script = path_builder(*self.script_tested)\n",
    "        command = ' '.join(['python', script, 'greet', 'everyone', '--lang=hi'])\n",
    "        result = subprocess.run(command, shell=True, stdout=subprocess.PIPE)\n",
    "        expected_result = 'सभी को नमस्कार, स्वचालित में आपका स्वागत है!\\n'\n",
    "        assert result.stdout.decode('utf-8') == expected_result"
   ]
  },
  {
   "cell_type": "markdown",
   "metadata": {
    "slideshow": {
     "slide_type": "slide"
    }
   },
   "source": [
    "# Testing Fire"
   ]
  },
  {
   "cell_type": "code",
   "execution_count": 42,
   "metadata": {
    "slideshow": {
     "slide_type": "-"
    }
   },
   "outputs": [
    {
     "name": "stdout",
     "output_type": "stream",
     "text": [
      "============================= test session starts ==============================\n",
      "platform darwin -- Python 3.6.7, pytest-4.0.2, py-1.7.0, pluggy-0.8.0\n",
      "rootdir: /Users/dash/my.presentations/google_fire, inifile:\n",
      "plugins: remotedata-0.3.1, openfiles-0.3.1, doctestplus-0.2.0, arraydiff-0.3\n",
      "collected 2 items\n",
      "\n",
      "tests/test_rad.py ..                                                     [100%]\n",
      "\n",
      "=========================== 2 passed in 1.42 seconds ===========================\n"
     ]
    }
   ],
   "source": [
    "%%bash\n",
    "pytest"
   ]
  },
  {
   "cell_type": "markdown",
   "metadata": {
    "slideshow": {
     "slide_type": "slide"
    }
   },
   "source": [
    "# Packaging Fire: cookiecutter-pypackage"
   ]
  },
  {
   "cell_type": "markdown",
   "metadata": {
    "slideshow": {
     "slide_type": "-"
    }
   },
   "source": [
    "__cookiecutter__ automates project boilerplate with the Jinja2 templating engine and git.\n",
    "\n",
    "__cookiecutter-pypackage__ is a boilerplate template for scaffolding python projects."
   ]
  },
  {
   "cell_type": "markdown",
   "metadata": {
    "slideshow": {
     "slide_type": "-"
    }
   },
   "source": [
    "```bash\n",
    "pip install -U cookiecutter\n",
    "cd ~/some/directory\n",
    "cookiecutter https://github.com/audreyr/cookiecutter-pypackage\n",
    "```"
   ]
  },
  {
   "cell_type": "markdown",
   "metadata": {
    "slideshow": {
     "slide_type": "slide"
    }
   },
   "source": [
    "# Packaging Fire: cookiecutter-pypackage"
   ]
  },
  {
   "cell_type": "markdown",
   "metadata": {
    "slideshow": {
     "slide_type": "-"
    }
   },
   "source": [
    "- full_name, email, github_username\n",
    "- project_name [Python Boilerplate]\n",
    "- project_slug [indypy_packaging_demo]\n",
    "- project_short_description [Python Boilerplate contains ...]\n",
    "- pypi_username [infosmith]\n",
    "- version [0.1.0]\n",
    "- use_pytest [n]\n",
    "- use_pypi_deployment_with_travis [y]"
   ]
  },
  {
   "cell_type": "markdown",
   "metadata": {
    "slideshow": {
     "slide_type": "slide"
    }
   },
   "source": [
    "# Packaging Fire: Entry Points"
   ]
  },
  {
   "cell_type": "markdown",
   "metadata": {
    "slideshow": {
     "slide_type": "-"
    }
   },
   "source": [
    "Entry points defined in setup.py are how setuptools make your scripts available to the console."
   ]
  },
  {
   "cell_type": "markdown",
   "metadata": {
    "slideshow": {
     "slide_type": "-"
    }
   },
   "source": [
    "```python\n",
    "entry_points={\n",
    "    'console_scripts': [\n",
    "        'indypy = fire_starter.fire_starter:main',\n",
    "    ],\n",
    "}\n",
    "```"
   ]
  },
  {
   "cell_type": "markdown",
   "metadata": {
    "slideshow": {
     "slide_type": "-"
    }
   },
   "source": [
    "```bash\n",
    "pip install . -e\n",
    "```"
   ]
  },
  {
   "cell_type": "markdown",
   "metadata": {
    "slideshow": {
     "slide_type": "slide"
    }
   },
   "source": [
    "# Packaging Fire: Entry Points"
   ]
  },
  {
   "cell_type": "markdown",
   "metadata": {
    "slideshow": {
     "slide_type": "-"
    }
   },
   "source": [
    "```python\n",
    "#!/Users/dash/.local/share/virtualenvs/fire_starter-RZ18EKnQ/bin/python3\n",
    "# EASY-INSTALL-ENTRY-SCRIPT: 'fire-starter','console_scripts','indypy'\n",
    "__requires__ = 'fire-starter'\n",
    "import re\n",
    "import sys\n",
    "from pkg_resources import load_entry_point\n",
    "\n",
    "if __name__ == '__main__':\n",
    "    sys.argv[0] = re.sub(r'(-script\\.pyw?|\\.exe)?$', '', sys.argv[0])\n",
    "    sys.exit(\n",
    "        load_entry_point('fire-starter', 'console_scripts', 'indypy')()\n",
    "    )\n",
    "```"
   ]
  },
  {
   "cell_type": "markdown",
   "metadata": {
    "slideshow": {
     "slide_type": "slide"
    }
   },
   "source": [
    "# Distributing Fire Scripts on PyPi"
   ]
  },
  {
   "cell_type": "markdown",
   "metadata": {},
   "source": [
    "## Manually"
   ]
  },
  {
   "cell_type": "markdown",
   "metadata": {},
   "source": [
    "```bash\n",
    "#test PyPI upload\n",
    "python setup.py sdist bdist_wheel\n",
    "twine upload --repository-url https://test.pypi.org/legacy/ dist/*\n",
    "\n",
    "#push to PyPI\n",
    "twine upload dist/*\n",
    "```"
   ]
  },
  {
   "cell_type": "markdown",
   "metadata": {
    "slideshow": {
     "slide_type": "-"
    }
   },
   "source": [
    "## cookiecutter-pypackages MakeFile"
   ]
  },
  {
   "cell_type": "markdown",
   "metadata": {
    "slideshow": {
     "slide_type": "-"
    }
   },
   "source": [
    "```make\n",
    "release: dist ## package and upload a release\n",
    "\ttwine upload dist/*\n",
    "```"
   ]
  },
  {
   "cell_type": "markdown",
   "metadata": {
    "slideshow": {
     "slide_type": "slide"
    }
   },
   "source": [
    "# Fire Prevention"
   ]
  },
  {
   "cell_type": "markdown",
   "metadata": {
    "slideshow": {
     "slide_type": "-"
    }
   },
   "source": [
    "1. be explicit about what is exposed\n",
    "1. avoid naming functions/methods/parameters for typing convenience\n",
    "1. nesting not exactly simplified\n",
    "1. identifiers promoted to global scope receive a CLI\n",
    "1. Fire's help menu is developer oriented"
   ]
  },
  {
   "cell_type": "markdown",
   "metadata": {
    "slideshow": {
     "slide_type": "slide"
    }
   },
   "source": [
    "# Examples of Fire Alternatives\n",
    "\n",
    "1. argv\n",
    "2. argparse\n",
    "3. docopt\n",
    "4. Click\n",
    "5. Cement"
   ]
  },
  {
   "cell_type": "markdown",
   "metadata": {
    "slideshow": {
     "slide_type": "slide"
    }
   },
   "source": [
    "# argv"
   ]
  },
  {
   "cell_type": "markdown",
   "metadata": {
    "slideshow": {
     "slide_type": "-"
    }
   },
   "source": [
    "```python\n",
    "import sys\n",
    "\n",
    "def greet(name):\n",
    "    return 'Hello {}!'.format(name)\n",
    "\n",
    "def depart(name):\n",
    "    return 'Goodbye {}!'.format(name)\n",
    "\n",
    "def is_valid_arguments(arguments):\n",
    "    return (2 < len(arguments) < 4) and arguments[1] in ['greet', 'depart']\n",
    "\n",
    "def main(args):\n",
    "    if not is_valid_arguments(args):\n",
    "        print('Unhandled arguments: {}'.format(sys.argv))\n",
    "    elif args[1] == 'greet':\n",
    "        print(greet(sys.argv[2]))\n",
    "    elif args[1] == 'depart':\n",
    "        print(depart(sys.argv[2]))\n",
    "\n",
    "if __name__ == '__main__':\n",
    "    main(sys.argv)\n",
    "```"
   ]
  },
  {
   "cell_type": "markdown",
   "metadata": {
    "slideshow": {
     "slide_type": "slide"
    }
   },
   "source": [
    "# argparse"
   ]
  },
  {
   "cell_type": "markdown",
   "metadata": {
    "slideshow": {
     "slide_type": "-"
    }
   },
   "source": [
    "```python\n",
    "import argparse\n",
    "\n",
    "parser = argparse.ArgumentParser()\n",
    "\n",
    "parser.add_argument('command', help='Say greeting or farewell.')\n",
    "parser.add_argument('name', help='Name to salute.')\n",
    "\n",
    "def greet(name):\n",
    "    return 'Hello {}!'.format(name)\n",
    "\n",
    "def depart(name):\n",
    "    return 'Goodbye {}!'.format(name)\n",
    "\n",
    "def main(args):\n",
    "    if args.command == 'greet':\n",
    "        print(greet(args.name))\n",
    "    elif args.command == 'depart':\n",
    "        print(depart(args.name))\n",
    "    else:\n",
    "        print('Unhandled arguments: {}'.format(args))\n",
    "\n",
    "if __name__ == '__main__':\n",
    "    main(parser.parse_args())\n",
    "```"
   ]
  },
  {
   "cell_type": "markdown",
   "metadata": {
    "slideshow": {
     "slide_type": "slide"
    }
   },
   "source": [
    "# docopt\n",
    "\n",
    "```python\n",
    "\"\"\"\n",
    "Scripting with docopt.\n",
    "\n",
    "Usage:\n",
    "    hello_docopt.py greet <greet_name>\n",
    "    hello_docopt.py depart <depart_name>\n",
    "\n",
    "Options:\n",
    "    -h --help     Show this screen.\n",
    "\"\"\"\n",
    "\n",
    "def greet(name):\n",
    "    return 'Hello {}!'.format(name)\n",
    "\n",
    "def depart(name):\n",
    "    return 'Goodbye {}!'.format(name)\n",
    "\n",
    "def main(args):\n",
    "    if args['greet']:\n",
    "        print(greet(args['<greet_name>']))\n",
    "    elif args['depart']:\n",
    "        print(depart(args['<depart_name>']))\n",
    "    else:\n",
    "        print('Unhandled arguments: {}'.format(args))\n",
    "\n",
    "if __name__ == '__main__':\n",
    "    from docopt import docopt\n",
    "\n",
    "    script_arguments = docopt(__doc__)\n",
    "    main(script_arguments)\n",
    "```"
   ]
  },
  {
   "cell_type": "markdown",
   "metadata": {
    "slideshow": {
     "slide_type": "slide"
    }
   },
   "source": [
    "# Click"
   ]
  },
  {
   "cell_type": "markdown",
   "metadata": {
    "slideshow": {
     "slide_type": "-"
    }
   },
   "source": [
    "```python\n",
    "import click\n",
    "\n",
    "\n",
    "@click.group()\n",
    "def cli():\n",
    "    pass\n",
    "\n",
    "\n",
    "@cli.command()\n",
    "@click.argument('name')\n",
    "def greet(name):\n",
    "    \"\"\"Echo greeting.\"\"\"\n",
    "    click.echo('Hello {}!'.format(name))\n",
    "\n",
    "\n",
    "@cli.command()\n",
    "@click.argument('name')\n",
    "def depart(name):\n",
    "    \"\"\"Echo farewell.\"\"\"\n",
    "    click.echo('Goodbye {}!'.format(name))\n",
    "\n",
    "\n",
    "cli.add_command(greet)\n",
    "cli.add_command(depart)\n",
    "\n",
    "if __name__ == '__main__':\n",
    "    cli()\n",
    "```"
   ]
  },
  {
   "cell_type": "markdown",
   "metadata": {
    "slideshow": {
     "slide_type": "slide"
    }
   },
   "source": [
    "# Cement"
   ]
  },
  {
   "cell_type": "markdown",
   "metadata": {
    "slideshow": {
     "slide_type": "-"
    }
   },
   "source": [
    "<img src=\"./images/killing_mosquitos.jpg\" />"
   ]
  },
  {
   "cell_type": "markdown",
   "metadata": {
    "slideshow": {
     "slide_type": "slide"
    }
   },
   "source": [
    "# Conclusions"
   ]
  },
  {
   "cell_type": "markdown",
   "metadata": {
    "slideshow": {
     "slide_type": "-"
    }
   },
   "source": [
    "<img src='./images/standards.png' />"
   ]
  }
 ],
 "metadata": {
  "celltoolbar": "Slideshow",
  "kernelspec": {
   "display_name": "Python 3",
   "language": "python",
   "name": "python3"
  },
  "language_info": {
   "codemirror_mode": {
    "name": "ipython",
    "version": 3
   },
   "file_extension": ".py",
   "mimetype": "text/x-python",
   "name": "python",
   "nbconvert_exporter": "python",
   "pygments_lexer": "ipython3",
   "version": "3.6.7"
  }
 },
 "nbformat": 4,
 "nbformat_minor": 1
}
